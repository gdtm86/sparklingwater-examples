{
 "cells": [
  {
   "cell_type": "markdown",
   "metadata": {},
   "source": [
    "## Cross Validation with RanfomForests Example\n",
    "\n",
    "In this example, we will perform a regression on bike-sharing dataset. We will pass the regression model through a CrossValidator to select the perfect model"
   ]
  },
  {
   "cell_type": "markdown",
   "metadata": {},
   "source": [
    "Check if the Spark and SparkSQL context have started successfully"
   ]
  },
  {
   "cell_type": "code",
   "execution_count": 1,
   "metadata": {
    "collapsed": false
   },
   "outputs": [
    {
     "name": "stdout",
     "output_type": "stream",
     "text": [
      "<pyspark.context.SparkContext object at 0x7f15fc946650>\n",
      "<pyspark.sql.context.HiveContext object at 0x7f15fc926e90>\n",
      "<pyspark.sql.context.HiveContext object at 0x7f15fc926e90>\n"
     ]
    }
   ],
   "source": [
    "print sc\n",
    "print sqlContext\n",
    "print sqlCtx"
   ]
  },
  {
   "cell_type": "code",
   "execution_count": 2,
   "metadata": {
    "collapsed": false
   },
   "outputs": [],
   "source": [
    "bike_df = (sqlContext\n",
    "           .read\n",
    "           .format('com.databricks.spark.csv')\n",
    "           .option(\"header\", \"true\") # Use first line of all files as header\n",
    "           .option(\"inferSchema\", \"true\") # Automatically infer data types\n",
    "           .load(\"bike-data/day.csv\"))"
   ]
  },
  {
   "cell_type": "code",
   "execution_count": 3,
   "metadata": {
    "collapsed": false
   },
   "outputs": [
    {
     "data": {
      "text/plain": [
       "['instant',\n",
       " 'dteday',\n",
       " 'season',\n",
       " 'yr',\n",
       " 'mnth',\n",
       " 'holiday',\n",
       " 'weekday',\n",
       " 'workingday',\n",
       " 'weathersit',\n",
       " 'temp',\n",
       " 'atemp',\n",
       " 'hum',\n",
       " 'windspeed',\n",
       " 'casual',\n",
       " 'registered',\n",
       " 'cnt']"
      ]
     },
     "execution_count": 3,
     "metadata": {},
     "output_type": "execute_result"
    }
   ],
   "source": [
    "bike_df.columns"
   ]
  },
  {
   "cell_type": "code",
   "execution_count": 4,
   "metadata": {
    "collapsed": false
   },
   "outputs": [
    {
     "name": "stdout",
     "output_type": "stream",
     "text": [
      "+-------+----------+------+---+----+-------+-------+----------+----------+--------+--------+--------+---------+------+----------+----+\n",
      "|instant|    dteday|season| yr|mnth|holiday|weekday|workingday|weathersit|    temp|   atemp|     hum|windspeed|casual|registered| cnt|\n",
      "+-------+----------+------+---+----+-------+-------+----------+----------+--------+--------+--------+---------+------+----------+----+\n",
      "|      1|2011-01-01|     1|  0|   1|      0|      6|         0|         2|0.344167|0.363625|0.805833| 0.160446|   331|       654| 985|\n",
      "|      2|2011-01-02|     1|  0|   1|      0|      0|         0|         2|0.363478|0.353739|0.696087| 0.248539|   131|       670| 801|\n",
      "|      3|2011-01-03|     1|  0|   1|      0|      1|         1|         1|0.196364|0.189405|0.437273| 0.248309|   120|      1229|1349|\n",
      "|      4|2011-01-04|     1|  0|   1|      0|      2|         1|         1|     0.2|0.212122|0.590435| 0.160296|   108|      1454|1562|\n",
      "|      5|2011-01-05|     1|  0|   1|      0|      3|         1|         1|0.226957| 0.22927|0.436957|   0.1869|    82|      1518|1600|\n",
      "|      6|2011-01-06|     1|  0|   1|      0|      4|         1|         1|0.204348|0.233209|0.518261|0.0895652|    88|      1518|1606|\n",
      "|      7|2011-01-07|     1|  0|   1|      0|      5|         1|         2|0.196522|0.208839|0.498696| 0.168726|   148|      1362|1510|\n",
      "|      8|2011-01-08|     1|  0|   1|      0|      6|         0|         2|   0.165|0.162254|0.535833| 0.266804|    68|       891| 959|\n",
      "|      9|2011-01-09|     1|  0|   1|      0|      0|         0|         1|0.138333|0.116175|0.434167|  0.36195|    54|       768| 822|\n",
      "|     10|2011-01-10|     1|  0|   1|      0|      1|         1|         1|0.150833|0.150888|0.482917| 0.223267|    41|      1280|1321|\n",
      "|     11|2011-01-11|     1|  0|   1|      0|      2|         1|         2|0.169091|0.191464|0.686364| 0.122132|    43|      1220|1263|\n",
      "|     12|2011-01-12|     1|  0|   1|      0|      3|         1|         1|0.172727|0.160473|0.599545| 0.304627|    25|      1137|1162|\n",
      "|     13|2011-01-13|     1|  0|   1|      0|      4|         1|         1|   0.165|0.150883|0.470417|    0.301|    38|      1368|1406|\n",
      "|     14|2011-01-14|     1|  0|   1|      0|      5|         1|         1| 0.16087|0.188413|0.537826| 0.126548|    54|      1367|1421|\n",
      "|     15|2011-01-15|     1|  0|   1|      0|      6|         0|         2|0.233333|0.248112| 0.49875| 0.157963|   222|      1026|1248|\n",
      "|     16|2011-01-16|     1|  0|   1|      0|      0|         0|         1|0.231667|0.234217| 0.48375| 0.188433|   251|       953|1204|\n",
      "|     17|2011-01-17|     1|  0|   1|      1|      1|         0|         2|0.175833|0.176771|  0.5375| 0.194017|   117|       883|1000|\n",
      "|     18|2011-01-18|     1|  0|   1|      0|      2|         1|         2|0.216667|0.232333|0.861667| 0.146775|     9|       674| 683|\n",
      "|     19|2011-01-19|     1|  0|   1|      0|      3|         1|         2|0.292174|0.298422|0.741739| 0.208317|    78|      1572|1650|\n",
      "|     20|2011-01-20|     1|  0|   1|      0|      4|         1|         2|0.261667| 0.25505|0.538333| 0.195904|    83|      1844|1927|\n",
      "+-------+----------+------+---+----+-------+-------+----------+----------+--------+--------+--------+---------+------+----------+----+\n",
      "only showing top 20 rows\n",
      "\n"
     ]
    }
   ],
   "source": [
    "bike_df.show()"
   ]
  },
  {
   "cell_type": "markdown",
   "metadata": {},
   "source": [
    "For this example purposes, lets just select some simple columns to run the regression on"
   ]
  },
  {
   "cell_type": "code",
   "execution_count": 5,
   "metadata": {
    "collapsed": false
   },
   "outputs": [],
   "source": [
    "bike_df1 = bike_df.select('season','mnth','holiday','weekday','workingday','weathersit','temp','atemp','hum',\n",
    "                         'windspeed','casual','registered','cnt')"
   ]
  },
  {
   "cell_type": "code",
   "execution_count": 6,
   "metadata": {
    "collapsed": false
   },
   "outputs": [],
   "source": [
    "bike_df2 = bike_df1.withColumn(\"cnt\", bike_df1[\"cnt\"].cast(\"double\"))"
   ]
  },
  {
   "cell_type": "code",
   "execution_count": 7,
   "metadata": {
    "collapsed": false
   },
   "outputs": [
    {
     "name": "stdout",
     "output_type": "stream",
     "text": [
      "+------+----+-------+-------+----------+----------+--------+--------+--------+---------+------+----------+------+\n",
      "|season|mnth|holiday|weekday|workingday|weathersit|    temp|   atemp|     hum|windspeed|casual|registered|   cnt|\n",
      "+------+----+-------+-------+----------+----------+--------+--------+--------+---------+------+----------+------+\n",
      "|     1|   1|      0|      6|         0|         2|0.344167|0.363625|0.805833| 0.160446|   331|       654| 985.0|\n",
      "|     1|   1|      0|      0|         0|         2|0.363478|0.353739|0.696087| 0.248539|   131|       670| 801.0|\n",
      "|     1|   1|      0|      1|         1|         1|0.196364|0.189405|0.437273| 0.248309|   120|      1229|1349.0|\n",
      "|     1|   1|      0|      2|         1|         1|     0.2|0.212122|0.590435| 0.160296|   108|      1454|1562.0|\n",
      "|     1|   1|      0|      3|         1|         1|0.226957| 0.22927|0.436957|   0.1869|    82|      1518|1600.0|\n",
      "|     1|   1|      0|      4|         1|         1|0.204348|0.233209|0.518261|0.0895652|    88|      1518|1606.0|\n",
      "|     1|   1|      0|      5|         1|         2|0.196522|0.208839|0.498696| 0.168726|   148|      1362|1510.0|\n",
      "|     1|   1|      0|      6|         0|         2|   0.165|0.162254|0.535833| 0.266804|    68|       891| 959.0|\n",
      "|     1|   1|      0|      0|         0|         1|0.138333|0.116175|0.434167|  0.36195|    54|       768| 822.0|\n",
      "|     1|   1|      0|      1|         1|         1|0.150833|0.150888|0.482917| 0.223267|    41|      1280|1321.0|\n",
      "|     1|   1|      0|      2|         1|         2|0.169091|0.191464|0.686364| 0.122132|    43|      1220|1263.0|\n",
      "|     1|   1|      0|      3|         1|         1|0.172727|0.160473|0.599545| 0.304627|    25|      1137|1162.0|\n",
      "|     1|   1|      0|      4|         1|         1|   0.165|0.150883|0.470417|    0.301|    38|      1368|1406.0|\n",
      "|     1|   1|      0|      5|         1|         1| 0.16087|0.188413|0.537826| 0.126548|    54|      1367|1421.0|\n",
      "|     1|   1|      0|      6|         0|         2|0.233333|0.248112| 0.49875| 0.157963|   222|      1026|1248.0|\n",
      "|     1|   1|      0|      0|         0|         1|0.231667|0.234217| 0.48375| 0.188433|   251|       953|1204.0|\n",
      "|     1|   1|      1|      1|         0|         2|0.175833|0.176771|  0.5375| 0.194017|   117|       883|1000.0|\n",
      "|     1|   1|      0|      2|         1|         2|0.216667|0.232333|0.861667| 0.146775|     9|       674| 683.0|\n",
      "|     1|   1|      0|      3|         1|         2|0.292174|0.298422|0.741739| 0.208317|    78|      1572|1650.0|\n",
      "|     1|   1|      0|      4|         1|         2|0.261667| 0.25505|0.538333| 0.195904|    83|      1844|1927.0|\n",
      "+------+----+-------+-------+----------+----------+--------+--------+--------+---------+------+----------+------+\n",
      "only showing top 20 rows\n",
      "\n"
     ]
    }
   ],
   "source": [
    "bike_df2.show()"
   ]
  },
  {
   "cell_type": "code",
   "execution_count": 8,
   "metadata": {
    "collapsed": false
   },
   "outputs": [
    {
     "data": {
      "text/plain": [
       "[('season', 'int'),\n",
       " ('mnth', 'int'),\n",
       " ('holiday', 'int'),\n",
       " ('weekday', 'int'),\n",
       " ('workingday', 'int'),\n",
       " ('weathersit', 'int'),\n",
       " ('temp', 'double'),\n",
       " ('atemp', 'double'),\n",
       " ('hum', 'double'),\n",
       " ('windspeed', 'double'),\n",
       " ('casual', 'int'),\n",
       " ('registered', 'int'),\n",
       " ('cnt', 'double')]"
      ]
     },
     "execution_count": 8,
     "metadata": {},
     "output_type": "execute_result"
    }
   ],
   "source": [
    "bike_df2.dtypes"
   ]
  },
  {
   "cell_type": "markdown",
   "metadata": {},
   "source": [
    "Create a Spark ML Pipeline to run RandomForests Regression"
   ]
  },
  {
   "cell_type": "code",
   "execution_count": 9,
   "metadata": {
    "collapsed": false
   },
   "outputs": [],
   "source": [
    "from pyspark.ml import Pipeline\n",
    "from pyspark.ml.feature import VectorAssembler\n",
    "from pyspark.ml.evaluation import RegressionEvaluator\n",
    "from pyspark.ml.regression import RandomForestRegressionModel\n",
    "from pyspark.ml.regression import RandomForestRegressor\n",
    "from pyspark.ml.tuning import ParamGridBuilder,CrossValidator"
   ]
  },
  {
   "cell_type": "code",
   "execution_count": 10,
   "metadata": {
    "collapsed": false
   },
   "outputs": [],
   "source": [
    "feature_columns = ['season'\n",
    "                   ,'mnth'\n",
    "                   ,'holiday'\n",
    "                   ,'weekday'\n",
    "                   ,'workingday'\n",
    "                   ,'weathersit'\n",
    "                   ,'temp'\n",
    "                   ,'atemp'\n",
    "                   ,'hum'\n",
    "                   ,'windspeed'\n",
    "                   ,'casual'\n",
    "                   ,'registered']"
   ]
  },
  {
   "cell_type": "markdown",
   "metadata": {},
   "source": [
    "Split the data into training and test splits"
   ]
  },
  {
   "cell_type": "code",
   "execution_count": 11,
   "metadata": {
    "collapsed": false
   },
   "outputs": [
    {
     "name": "stdout",
     "output_type": "stream",
     "text": [
      "Training data size is :512\n",
      "Test data size is :219\n"
     ]
    }
   ],
   "source": [
    "(training_data, test_data) = bike_df2.randomSplit([0.7,0.3], seed = 10)\n",
    "print \"Training data size is :\"+str(training_data.count())\n",
    "print \"Test data size is :\"+str(test_data.count())"
   ]
  },
  {
   "cell_type": "code",
   "execution_count": 12,
   "metadata": {
    "collapsed": false
   },
   "outputs": [
    {
     "data": {
      "text/plain": [
       "[('season', 'int'),\n",
       " ('mnth', 'int'),\n",
       " ('holiday', 'int'),\n",
       " ('weekday', 'int'),\n",
       " ('workingday', 'int'),\n",
       " ('weathersit', 'int'),\n",
       " ('temp', 'double'),\n",
       " ('atemp', 'double'),\n",
       " ('hum', 'double'),\n",
       " ('windspeed', 'double'),\n",
       " ('casual', 'int'),\n",
       " ('registered', 'int'),\n",
       " ('cnt', 'double')]"
      ]
     },
     "execution_count": 12,
     "metadata": {},
     "output_type": "execute_result"
    }
   ],
   "source": [
    "training_data.dtypes"
   ]
  },
  {
   "cell_type": "markdown",
   "metadata": {},
   "source": [
    "We now need to take the columns that are features and create a vector from it. We will use a Transformer called VectorAssembler that gives a new dataframe by merging multiple columns in the input dataframe in a vector column "
   ]
  },
  {
   "cell_type": "code",
   "execution_count": 13,
   "metadata": {
    "collapsed": true
   },
   "outputs": [],
   "source": [
    "vecAssembler = VectorAssembler(inputCols=feature_columns, outputCol='features_vector')\n",
    "#bike_df2 = vecAssembler.transform(bike_df1)"
   ]
  },
  {
   "cell_type": "markdown",
   "metadata": {},
   "source": [
    "Train the RandomForests model"
   ]
  },
  {
   "cell_type": "code",
   "execution_count": 14,
   "metadata": {
    "collapsed": true
   },
   "outputs": [],
   "source": [
    "rdf = RandomForestRegressor(labelCol='cnt',featuresCol=\"features_vector\",predictionCol='predicted_cnt',seed=15)"
   ]
  },
  {
   "cell_type": "markdown",
   "metadata": {},
   "source": [
    "Chaining VectorAssembler and RandomForestRegressor into a pipeline"
   ]
  },
  {
   "cell_type": "code",
   "execution_count": 15,
   "metadata": {
    "collapsed": true
   },
   "outputs": [],
   "source": [
    "pipeline = Pipeline(stages=[vecAssembler,rdf])"
   ]
  },
  {
   "cell_type": "markdown",
   "metadata": {},
   "source": [
    "Set the parameter grid to fit the model using Cross Valiadtion and return the best model"
   ]
  },
  {
   "cell_type": "code",
   "execution_count": 16,
   "metadata": {
    "collapsed": false
   },
   "outputs": [],
   "source": [
    "paramGrid = (ParamGridBuilder()\n",
    "             .addGrid(rdf.maxDepth,[5,10,15,20])\n",
    "             .addGrid(rdf.numTrees,[1,10,50,100])\n",
    "             .build())"
   ]
  },
  {
   "cell_type": "code",
   "execution_count": 17,
   "metadata": {
    "collapsed": false
   },
   "outputs": [],
   "source": [
    "rdfEvaluator = RegressionEvaluator(predictionCol=\"predicted_cnt\", labelCol='cnt', metricName='rmse')"
   ]
  },
  {
   "cell_type": "code",
   "execution_count": 18,
   "metadata": {
    "collapsed": true
   },
   "outputs": [],
   "source": [
    "cv = CrossValidator(estimator=pipeline, estimatorParamMaps=paramGrid, evaluator=rdfEvaluator)"
   ]
  },
  {
   "cell_type": "code",
   "execution_count": 19,
   "metadata": {
    "collapsed": false
   },
   "outputs": [],
   "source": [
    "# Run cross-validation, and choose the best set of parameters.\n",
    "cvModel = cv.fit(training_data)"
   ]
  },
  {
   "cell_type": "markdown",
   "metadata": {},
   "source": [
    "Make the predictions on the test_data using the cvModel."
   ]
  },
  {
   "cell_type": "code",
   "execution_count": 20,
   "metadata": {
    "collapsed": false
   },
   "outputs": [],
   "source": [
    "test_data_with_predictions = cvModel.transform(test_data)"
   ]
  },
  {
   "cell_type": "code",
   "execution_count": 21,
   "metadata": {
    "collapsed": false
   },
   "outputs": [
    {
     "name": "stdout",
     "output_type": "stream",
     "text": [
      "+------+----+-------+-------+----------+----------+---------+---------+--------+---------+------+----------+------+--------------------+------------------+\n",
      "|season|mnth|holiday|weekday|workingday|weathersit|     temp|    atemp|     hum|windspeed|casual|registered|   cnt|     features_vector|     predicted_cnt|\n",
      "+------+----+-------+-------+----------+----------+---------+---------+--------+---------+------+----------+------+--------------------+------------------+\n",
      "|     1|   1|      0|      0|         0|         1| 0.138333| 0.116175|0.434167|  0.36195|    54|       768| 822.0|[1.0,1.0,0.0,0.0,...|           1064.95|\n",
      "|     1|   1|      0|      0|         0|         1| 0.216522| 0.250322|0.722174|0.0739826|   140|       956|1096.0|[1.0,1.0,0.0,0.0,...|           1366.33|\n",
      "|     1|   1|      0|      1|         1|         1| 0.196364| 0.189405|0.437273| 0.248309|   120|      1229|1349.0|[1.0,1.0,0.0,1.0,...|1435.9091666666666|\n",
      "|     1|   1|      0|      1|         1|         2| 0.180833|  0.18625| 0.60375| 0.187192|    42|      1459|1501.0|[1.0,1.0,0.0,1.0,...|1356.4371428571428|\n",
      "|     1|   1|      0|      2|         1|         2| 0.223478| 0.234526|0.616957| 0.129796|   186|      1799|1985.0|[1.0,1.0,0.0,2.0,...|           2036.32|\n",
      "|     1|   1|      0|      5|         1|         1|  0.16087| 0.188413|0.537826| 0.126548|    54|      1367|1421.0|[1.0,1.0,0.0,5.0,...| 1364.453142857143|\n",
      "|     1|   1|      0|      6|         0|         1|0.0591304|0.0790696|     0.4|  0.17197|    93|       888| 981.0|[1.0,1.0,0.0,6.0,...|1187.8853333333332|\n",
      "|     1|   1|      0|      6|         0|         1| 0.196522| 0.212126|0.651739| 0.145365|   123|       975|1098.0|[1.0,1.0,0.0,6.0,...|           1343.99|\n",
      "|     1|   1|      0|      6|         0|         2| 0.344167| 0.363625|0.805833| 0.160446|   331|       654| 985.0|[1.0,1.0,0.0,6.0,...|           1479.46|\n",
      "|     1|   1|      1|      1|         0|         1| 0.273043| 0.252304|0.381304| 0.329665|   244|      1707|1951.0|[1.0,1.0,1.0,1.0,...|2052.0333333333333|\n",
      "|     1|   2|      0|      0|         0|         1| 0.285833| 0.291671|0.568333|   0.1418|   354|      1269|1623.0|[1.0,2.0,0.0,0.0,...|           1856.44|\n",
      "|     1|   2|      0|      1|         1|         1|    0.415|  0.39835|0.375833| 0.417908|   208|      1705|1913.0|[1.0,2.0,0.0,1.0,...|2203.4933333333333|\n",
      "|     1|   2|      0|      2|         1|         1| 0.266087| 0.254274|0.314348| 0.291374|   140|      1675|1815.0|[1.0,2.0,0.0,2.0,...|            1890.9|\n",
      "|     1|   2|      0|      2|         1|         2| 0.192174|  0.23453|0.829565| 0.053213|    47|      1313|1360.0|[1.0,2.0,0.0,2.0,...|1396.7171428571428|\n",
      "|     1|   2|      0|      3|         1|         2| 0.134783| 0.144283|0.494783| 0.188839|    53|      1552|1605.0|[1.0,2.0,0.0,3.0,...|1554.9568333333334|\n",
      "|     1|   2|      0|      3|         1|         2|     0.26| 0.254417|0.775417| 0.264308|    72|      1454|1526.0|[1.0,2.0,0.0,3.0,...|            1590.0|\n",
      "|     1|   2|      0|      4|         1|         1| 0.144348| 0.149548|0.437391| 0.221935|    47|      1491|1538.0|[1.0,2.0,0.0,4.0,...| 1429.748142857143|\n",
      "|     1|   2|      0|      4|         1|         1| 0.186957| 0.177878|0.437826| 0.277752|    61|      1489|1550.0|[1.0,2.0,0.0,4.0,...|1484.0754761904764|\n",
      "|     1|   2|      0|      4|         1|         2| 0.295652| 0.289191|0.697391| 0.250496|   100|      1707|1807.0|[1.0,2.0,0.0,4.0,...|1886.2666666666667|\n",
      "|     1|   2|      0|      6|         0|         2| 0.233333| 0.243058|0.929167| 0.161079|   100|       905|1005.0|[1.0,2.0,0.0,6.0,...|           1320.75|\n",
      "+------+----+-------+-------+----------+----------+---------+---------+--------+---------+------+----------+------+--------------------+------------------+\n",
      "only showing top 20 rows\n",
      "\n"
     ]
    }
   ],
   "source": [
    "test_data_with_predictions.show()"
   ]
  },
  {
   "cell_type": "markdown",
   "metadata": {
    "collapsed": true
   },
   "source": [
    "We can now use the evaluator we created to find the RMSE on the test_data"
   ]
  },
  {
   "cell_type": "code",
   "execution_count": 22,
   "metadata": {
    "collapsed": false
   },
   "outputs": [
    {
     "name": "stdout",
     "output_type": "stream",
     "text": [
      "RMSE on test data is : 260.970107946\n"
     ]
    }
   ],
   "source": [
    "test_data_RMSE = rdfEvaluator.evaluate(test_data_with_predictions)\n",
    "print \"RMSE on test data is : \" + str(test_data_RMSE)"
   ]
  },
  {
   "cell_type": "code",
   "execution_count": 23,
   "metadata": {
    "collapsed": false
   },
   "outputs": [],
   "source": [
    "bestRDFModel = cvModel.bestModel.stages[1]"
   ]
  },
  {
   "cell_type": "code",
   "execution_count": 24,
   "metadata": {
    "collapsed": false
   },
   "outputs": [
    {
     "data": {
      "text/plain": [
       "RandomForestRegressionModel (uid=rfr_5910503e0776) with 100 trees"
      ]
     },
     "execution_count": 24,
     "metadata": {},
     "output_type": "execute_result"
    }
   ],
   "source": [
    "bestRDFModel"
   ]
  },
  {
   "cell_type": "markdown",
   "metadata": {},
   "source": [
    "We have successfully built a RandomForestsRegressin model using Cross-Validation"
   ]
  },
  {
   "cell_type": "code",
   "execution_count": null,
   "metadata": {
    "collapsed": true
   },
   "outputs": [],
   "source": []
  }
 ],
 "metadata": {
  "kernelspec": {
   "display_name": "Python 2",
   "language": "python",
   "name": "python2"
  },
  "language_info": {
   "codemirror_mode": {
    "name": "ipython",
    "version": 2
   },
   "file_extension": ".py",
   "mimetype": "text/x-python",
   "name": "python",
   "nbconvert_exporter": "python",
   "pygments_lexer": "ipython2",
   "version": "2.7.11"
  }
 },
 "nbformat": 4,
 "nbformat_minor": 0
}
